{
 "cells": [
  {
   "cell_type": "code",
   "execution_count": 1,
   "id": "85887f08",
   "metadata": {},
   "outputs": [],
   "source": [
    "import models\n",
    "model = getattr(models, 'MLP')(in_channel=1, out_channel=10)\n"
   ]
  },
  {
   "cell_type": "code",
   "execution_count": 2,
   "id": "9415ad95",
   "metadata": {},
   "outputs": [],
   "source": [
    "from CNN_Datasets.O_A import datasets\n",
    "Dataset = getattr(datasets, 'JNU')"
   ]
  },
  {
   "cell_type": "code",
   "execution_count": 5,
   "id": "945d6d4a",
   "metadata": {},
   "outputs": [
    {
     "name": "stderr",
     "output_type": "stream",
     "text": [
      "100%|██████████| 4/4 [00:02<00:00,  1.87it/s]\n",
      "100%|██████████| 4/4 [00:02<00:00,  1.91it/s]\n",
      "100%|██████████| 4/4 [00:02<00:00,  1.92it/s]\n"
     ]
    }
   ],
   "source": [
    "data = {}\n",
    "\n",
    "data['train'], data['val'] = Dataset('D:/0-Data/2-benchmark/Data/Mechanical-datasets/JNU','O_A').data_preprare()"
   ]
  },
  {
   "cell_type": "code",
   "execution_count": 22,
   "id": "26384c49",
   "metadata": {},
   "outputs": [
    {
     "data": {
      "text/plain": [
       "7038"
      ]
     },
     "execution_count": 22,
     "metadata": {},
     "output_type": "execute_result"
    }
   ],
   "source": [
    "len(data['train'].seq_data)"
   ]
  },
  {
   "cell_type": "code",
   "execution_count": 1,
   "id": "5b9b586c",
   "metadata": {},
   "outputs": [
    {
     "ename": "ImportError",
     "evalue": "Failed to load PyTorch C extensions:\n    It appears that PyTorch has loaded the `torch/_C` folder\n    of the PyTorch repository rather than the C extensions which\n    are expected in the `torch._C` namespace. This can occur when\n    using the `install` workflow. e.g.\n        $ python setup.py install && python -c \"import torch\"\n\n    This error can generally be solved using the `develop` workflow\n        $ python setup.py develop && python -c \"import torch\"  # This should succeed\n    or by running Python from a different directory.",
     "output_type": "error",
     "traceback": [
      "\u001b[31m---------------------------------------------------------------------------\u001b[39m",
      "\u001b[31mImportError\u001b[39m                               Traceback (most recent call last)",
      "\u001b[36mCell\u001b[39m\u001b[36m \u001b[39m\u001b[32mIn[1]\u001b[39m\u001b[32m, line 1\u001b[39m\n\u001b[32m----> \u001b[39m\u001b[32m1\u001b[39m \u001b[38;5;28;01mimport\u001b[39;00m\u001b[38;5;250m \u001b[39m\u001b[34;01mtorch\u001b[39;00m\n",
      "\u001b[36mFile \u001b[39m\u001b[32mc:\\Users\\xdhrog\\AppData\\Local\\Programs\\Python\\Python312\\Lib\\site-packages\\torch\\__init__.py:451\u001b[39m\n\u001b[32m    449\u001b[39m     \u001b[38;5;66;03m# The __file__ check only works for Python 3.7 and above.\u001b[39;00m\n\u001b[32m    450\u001b[39m     \u001b[38;5;28;01mif\u001b[39;00m _C_for_compiled_check.\u001b[34m__file__\u001b[39m \u001b[38;5;129;01mis\u001b[39;00m \u001b[38;5;28;01mNone\u001b[39;00m:\n\u001b[32m--> \u001b[39m\u001b[32m451\u001b[39m         \u001b[38;5;28;01mraise\u001b[39;00m \u001b[38;5;167;01mImportError\u001b[39;00m(textwrap.dedent(\u001b[33m'''\u001b[39m\n\u001b[32m    452\u001b[39m \u001b[33m            Failed to load PyTorch C extensions:\u001b[39m\n\u001b[32m    453\u001b[39m \u001b[33m                It appears that PyTorch has loaded the `torch/_C` folder\u001b[39m\n\u001b[32m    454\u001b[39m \u001b[33m                of the PyTorch repository rather than the C extensions which\u001b[39m\n\u001b[32m    455\u001b[39m \u001b[33m                are expected in the `torch._C` namespace. This can occur when\u001b[39m\n\u001b[32m    456\u001b[39m \u001b[33m                using the `install` workflow. e.g.\u001b[39m\n\u001b[32m    457\u001b[39m \u001b[33m                    $ python setup.py install && python -c \u001b[39m\u001b[33m\"\u001b[39m\u001b[33mimport torch\u001b[39m\u001b[33m\"\u001b[39m\n\u001b[32m    458\u001b[39m \n\u001b[32m    459\u001b[39m \u001b[33m                This error can generally be solved using the `develop` workflow\u001b[39m\n\u001b[32m    460\u001b[39m \u001b[33m                    $ python setup.py develop && python -c \u001b[39m\u001b[33m\"\u001b[39m\u001b[33mimport torch\u001b[39m\u001b[33m\"\u001b[39m\u001b[33m  # This should succeed\u001b[39m\n\u001b[32m    461\u001b[39m \u001b[33m                or by running Python from a different directory.\u001b[39m\n\u001b[32m    462\u001b[39m \u001b[33m            \u001b[39m\u001b[33m'''\u001b[39m).strip()) \u001b[38;5;28;01mfrom\u001b[39;00m\u001b[38;5;250m \u001b[39m\u001b[38;5;28;01mNone\u001b[39;00m\n\u001b[32m    463\u001b[39m     \u001b[38;5;28;01mraise\u001b[39;00m  \u001b[38;5;66;03m# If __file__ is not None the cause is unknown, so just re-raise.\u001b[39;00m\n\u001b[32m    465\u001b[39m \u001b[38;5;28;01mfor\u001b[39;00m name \u001b[38;5;129;01min\u001b[39;00m \u001b[38;5;28mdir\u001b[39m(_C):\n",
      "\u001b[31mImportError\u001b[39m: Failed to load PyTorch C extensions:\n    It appears that PyTorch has loaded the `torch/_C` folder\n    of the PyTorch repository rather than the C extensions which\n    are expected in the `torch._C` namespace. This can occur when\n    using the `install` workflow. e.g.\n        $ python setup.py install && python -c \"import torch\"\n\n    This error can generally be solved using the `develop` workflow\n        $ python setup.py develop && python -c \"import torch\"  # This should succeed\n    or by running Python from a different directory."
     ]
    }
   ],
   "source": [
    "import torch"
   ]
  }
 ],
 "metadata": {
  "kernelspec": {
   "display_name": "Python 3",
   "language": "python",
   "name": "python3"
  },
  "language_info": {
   "codemirror_mode": {
    "name": "ipython",
    "version": 3
   },
   "file_extension": ".py",
   "mimetype": "text/x-python",
   "name": "python",
   "nbconvert_exporter": "python",
   "pygments_lexer": "ipython3",
   "version": "3.12.10"
  }
 },
 "nbformat": 4,
 "nbformat_minor": 5
}
